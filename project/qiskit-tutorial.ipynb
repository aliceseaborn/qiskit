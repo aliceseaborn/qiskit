{
 "cells": [
  {
   "cell_type": "markdown",
   "metadata": {},
   "source": [
    "# Qiskit Tutorial\n",
    "---\n",
    "\n",
    "This notebook follows the tutorial provided by [PythonProgramming.net](https://pythonprogramming.net/quantum-computer-programming-tutorial/) to teach quantum computing using IBM's quantum library Qiskit.\n",
    "\n",
    "According to [Qiskit's documentation](https://qiskit.org/documentation/getting_started.html), the suggested workflow for quantum development follows:\n",
    "\n",
    "1. **Build -** design a quantum circuit that represents the problem you are considering.\n",
    "2. **Execute -** run experiments on different backends (which include both systems and simulators).\n",
    "3. **Analyze -** calculate summary statistics and visualize the results of experiments.\n",
    "\n",
    "The recommended workflow will be modeled by this notebook as a proof of concept.\n",
    "\n",
    "---\n",
    "\n",
    "## <a name=\"TOC\"></a> Table of Contents\n",
    "1. [Design Circuit](#design)\n",
    "2. [Execute Circuit Design](#execute)\n",
    "3. [Analyze Experimental Results](#analyze)\n",
    "4. [Simulate Quantum Circuit](#simulate)\n",
    "\n"
   ]
  },
  {
   "cell_type": "code",
   "execution_count": 1,
   "metadata": {},
   "outputs": [],
   "source": [
    "# -------------------- CONFIGURE ENVIRONMENT -------------------- #\n",
    "\n",
    "%reset -f\n",
    "\n",
    "# Import standard libraries\n",
    "import numpy as np\n",
    "import matplotlib as plt\n",
    "%matplotlib inline\n",
    "\n",
    "# Import quantum library\n",
    "import qiskit as q\n"
   ]
  },
  {
   "cell_type": "markdown",
   "metadata": {},
   "source": [
    "### <a name=\"design\"></a> [Design Circuit](#TOC)\n",
    "\n",
    "All quantum models in Qiskit are essentially quantum circuits which are fed to a simulator to be analyzed. Consequently, the quantum code is inherently low-level as for now, as it operates on individual quantum gates and cannot perform the high-level abstractions of contemporary conventional computer languages.\n",
    "\n",
    "The quantum model developed below demonstrates the concept of quantum entanglement. The controled not (CNOT) gate used between the two quantum inputs impose a quantum entanglement between the two inputs. This quantum entanglement ensures that if the state of one qubit is known then the state of its entangled qubit can also be known. The truth table is given below.\n",
    "\n",
    "<table style=\"width:40%\">\n",
    "  <tr>\n",
    "    <th>Control</th>\n",
    "    <th>Target</th>\n",
    "    <th>Out 0</th>\n",
    "    <th>Out 1</th>\n",
    "  </tr>\n",
    "  <tr>\n",
    "    <td>|0〉</td>\n",
    "    <td>|0〉</td>\n",
    "    <td>|0〉</td>\n",
    "    <td>|0〉</td>\n",
    "  </tr>\n",
    "  <tr>\n",
    "    <td>|0〉</td>\n",
    "    <td>|1〉</td>\n",
    "    <td>|0〉</td>\n",
    "    <td>|1〉</td>\n",
    "  </tr>\n",
    "  <tr>\n",
    "    <td>|1〉</td>\n",
    "    <td>|0〉</td>\n",
    "    <td>|1〉</td>\n",
    "    <td>|1〉</td>\n",
    "  </tr>\n",
    "  <tr>\n",
    "    <td>|1〉</td>\n",
    "    <td>|1〉</td>\n",
    "    <td>|1〉</td>\n",
    "    <td>|0〉</td>\n",
    "  </tr>\n",
    "</table>\n",
    "\n",
    "\n",
    "\n"
   ]
  },
  {
   "cell_type": "code",
   "execution_count": 2,
   "metadata": {},
   "outputs": [
    {
     "data": {
      "image/png": "[encoded data removed]",
      "text/plain": [
       "<Figure size 429.828x204.68 with 1 Axes>"
      ]
     },
     "execution_count": 2,
     "metadata": {},
     "output_type": "execute_result"
    }
   ],
   "source": [
    "# -------------------- DESIGN CIRCUIT -------------------- #\n",
    "\n",
    "# Create registers\n",
    "qubits = q.QuantumRegister(2)\n",
    "classical = q.ClassicalRegister(2)\n",
    "\n",
    "# Initialize quantum circuit\n",
    "#   The quantum circuit takes both q-bits and conventional bits into its operational\n",
    "#   matrix. The resulting circuit can be programmed by calling gates to append them\n",
    "#   to the model.\n",
    "circuit = q.QuantumCircuit(qubits,classical)\n",
    "\n",
    "# Add not gate to the first qubit\n",
    "circuit.x(qubit=0)\n",
    "\n",
    "# Add a controlled not gate which flips the target qubit if the control qubit is true\n",
    "#   This quantum logic gate is responsible for entangling these two qubits. By linking\n",
    "#   their logic values, they become inter-related in a way that classical bits cannot\n",
    "#   be related.\n",
    "circuit.cx(control_qubit=0, target_qubit=1)\n",
    "\n",
    "# Measure the qubits to classical bits\n",
    "#   !!! I have not found a good explanation for what this function does. I can only\n",
    "#   assume that it collapses the qubits into conventional bits so that they are no\n",
    "#   longer in superposition and can therefore be read as output.\n",
    "circuit.measure([0,1], [0,1])  # ([qbitregister], [classicalbitregister]) Measure qubit 0 and 1 to classical bits 0 and 1\n",
    "\n",
    "# Visualize the quantum circuit\n",
    "circuit.draw(output=\"mpl\")\n"
   ]
  },
  {
   "cell_type": "markdown",
   "metadata": {},
   "source": [
    "### <a name=\"execute\"></a> [Execute Circuit Design](#TOC)\n",
    "\n",
    "With the circuit designed, we can now simulate it using IBM's quantum computer which is available to us for free. Thank you IBM.\n",
    "\n",
    "In order to gain access to the simulator, an account must be created at [https://quantum-computing.ibm.com/](https://quantum-computing.ibm.com/). Under the account page, there is a section for the management of tokens, copy the token into a text file and read it back into the program in order to establish a valid connection with IBM. This must only be done once for the life of the token as it saves the token information locally to the computer.\n",
    "\n"
   ]
  },
  {
   "cell_type": "code",
   "execution_count": 3,
   "metadata": {},
   "outputs": [
    {
     "name": "stdout",
     "output_type": "stream",
     "text": [
      "ibmq_qasm_simulator has 0 queued and simulated qubits\n",
      "ibmqx2 has 3 queued and 5 qubits\n",
      "ibmq_16_melbourne has 15 queued and 15 qubits\n",
      "ibmq_vigo has 6 queued and 5 qubits\n",
      "ibmq_ourense has 29 queued and 5 qubits\n",
      "ibmq_london has 1 queued and 5 qubits\n",
      "ibmq_burlington has 4 queued and 5 qubits\n",
      "ibmq_essex has 7 queued and 5 qubits\n",
      "ibmq_armonk has 0 queued and 1 qubits\n",
      "ibmq_rome has 13 queued and 5 qubits\n"
     ]
    }
   ],
   "source": [
    "# -------------------- EXECUTE CIRCUIT -------------------- #\n",
    "\n",
    "# Read token and exchange account information\n",
    "token = open('token.txt', 'r').read()\n",
    "q.IBMQ.save_account(token, overwrite=True)\n",
    "\n",
    "# Load account connection\n",
    "q.IBMQ.load_account()\n",
    "\n",
    "# To see a list of providers, execute the following:\n",
    "# q.IBMQ.providers()\n",
    "\n",
    "# Set provider\n",
    "provider = q.IBMQ.get_provider(\"ibm-q\")\n",
    "\n",
    "# Check the status of all IBM quantum systems\n",
    "for backend in provider.backends():\n",
    "    try:\n",
    "        qubit_count = len(backend.properties().qubits)\n",
    "    except:\n",
    "        qubit_count = \"simulated\"\n",
    "        \n",
    "    print(f\"{backend.name()} has {backend.status().pending_jobs} queued and {qubit_count} qubits\")\n"
   ]
  },
  {
   "cell_type": "markdown",
   "metadata": {},
   "source": [
    "Some IBM quantum locations are in greater demand than others and some have varying capabilities with respect to the total number of qubits that their systems can support. Once the provider has been selected, a provider object can be instantiated and fed to the execute function for processing.\n",
    "\n"
   ]
  },
  {
   "cell_type": "code",
   "execution_count": 4,
   "metadata": {},
   "outputs": [
    {
     "name": "stdout",
     "output_type": "stream",
     "text": [
      "Job Status: job has successfully run\n"
     ]
    }
   ],
   "source": [
    "# Select provider\n",
    "backend = provider.get_backend(\"ibmq_16_melbourne\")\n",
    "\n",
    "# Instantiate the job and execute\n",
    "job = q.execute(circuit, backend=backend, shots=500)\n",
    "\n",
    "# Monitor the job status\n",
    "q.tools.monitor.job_monitor(job)\n"
   ]
  },
  {
   "cell_type": "markdown",
   "metadata": {},
   "source": [
    "The job status monitor will convey the status of the job in real time. Running from `job is being validated` to `job is actively running` and finally to `job has successfully run`.\n",
    "\n"
   ]
  },
  {
   "cell_type": "markdown",
   "metadata": {},
   "source": [
    "### <a name=\"analyze\"></a> [Analyze Experimental Results](#TOC)\n",
    "\n",
    "Now that the job has executed itself, we can parse the results and visualize the probability expectations.\n",
    "\n"
   ]
  },
  {
   "cell_type": "code",
   "execution_count": 5,
   "metadata": {},
   "outputs": [
    {
     "data": {
      "image/png": "[encoded data removed]",
      "text/plain": [
       "<Figure size 504x360 with 1 Axes>"
      ]
     },
     "execution_count": 5,
     "metadata": {},
     "output_type": "execute_result"
    }
   ],
   "source": [
    "# -------------------- EXPERIMENTAL ANALYSIS -------------------- #\n",
    "\n",
    "# Select plotting style\n",
    "plt.style.use(\"dark_background\") # I am using dark mode notebook, so I use this to see the chart.\n",
    "\n",
    "# Stash results from job\n",
    "result = job.result()\n",
    "\n",
    "# Pull the histogram data from the experiment\n",
    "counts = result.get_counts(circuit)\n",
    "\n",
    "# Plot the expectation from histogram data\n",
    "q.visualization.plot_histogram([counts], legend=['Device'])\n"
   ]
  },
  {
   "cell_type": "markdown",
   "metadata": {},
   "source": [
    "The expected value of this experiment is `11`. The remaining outputs are simply statistical noise. Remember: quantum machines do not model probability, they are probability. Consequently, this experiment, while repeatable, will not yield the exact same results after each run time."
   ]
  },
  {
   "cell_type": "markdown",
   "metadata": {},
   "source": [
    "### <a name=\"simulate\"></a> [Simulate Quantum Circuit](#TOC)\n",
    "\n",
    "Running quantum circuit designs on a real quantum computer, while possible, is not recommended because the resources are scarce and it is not necessary to use time on the quantum machines when the circuit can be simulated instead. Using the simulator, the noise will be significantly reduced and might even return nearly perfect results when compared to the quantum jobs. There are three simulators at the time of writing this notebook:\n",
    "\n",
    "**Qasm -** runs multi-shot ideal and noisy simulations and returns either counts or memory\n",
    "<br>\n",
    "**Statevector -** runs single-shot ideal simulations and returns simulation state-vector\n",
    "<br>\n",
    "**Unitary -** runs single-shot ideal simulations and returns the unitary matrix for the circuit.\n",
    "\n"
   ]
  },
  {
   "cell_type": "code",
   "execution_count": 6,
   "metadata": {},
   "outputs": [
    {
     "name": "stdout",
     "output_type": "stream",
     "text": [
      "Job Status: job has successfully run\n"
     ]
    }
   ],
   "source": [
    "# -------------------- CIRCUIT SIMULATION -------------------- #\n",
    "\n",
    "# Instantiate Aer simulator\n",
    "sim_backend = q.Aer.get_backend('qasm_simulator')\n",
    "\n",
    "# Run simulation job\n",
    "job = q.execute(circuit, backend=sim_backend, shots=500)\n",
    "q.tools.monitor.job_monitor(job)\n"
   ]
  },
  {
   "cell_type": "code",
   "execution_count": 7,
   "metadata": {},
   "outputs": [
    {
     "data": {
      "image/png": "[encoded data removed]",
      "text/plain": [
       "<Figure size 504x360 with 1 Axes>"
      ]
     },
     "execution_count": 7,
     "metadata": {},
     "output_type": "execute_result"
    }
   ],
   "source": [
    "# Stash result sets\n",
    "result = job.result()\n",
    "counts = result.get_counts(circuit)\n",
    "\n",
    "# Visualize simulation results\n",
    "q.visualization.plot_histogram([counts], legend=['Device'])\n"
   ]
  },
  {
   "cell_type": "markdown",
   "metadata": {},
   "source": [
    "Obviously, this histogram reflects the ideal simulator output and therefore the histogram contains no noise to interfere with the circuit's operation."
   ]
  },
  {
   "cell_type": "markdown",
   "metadata": {},
   "source": [
    "*Written by Alice Seaborn, June 1 2020*"
   ]
  }
 ],
 "metadata": {
  "kernelspec": {
   "display_name": "Python 3",
   "language": "python",
   "name": "python3"
  },
  "language_info": {
   "codemirror_mode": {
    "name": "ipython",
    "version": 3
   },
   "file_extension": ".py",
   "mimetype": "text/x-python",
   "name": "python",
   "nbconvert_exporter": "python",
   "pygments_lexer": "ipython3",
   "version": "3.8.2"
  }
 },
 "nbformat": 4,
 "nbformat_minor": 4
}
